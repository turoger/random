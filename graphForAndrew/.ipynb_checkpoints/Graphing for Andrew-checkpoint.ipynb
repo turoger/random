{
 "cells": [
  {
   "cell_type": "markdown",
   "metadata": {},
   "source": [
    "## Create a matplotlib graph for Andrew"
   ]
  },
  {
   "cell_type": "code",
   "execution_count": 1,
   "metadata": {},
   "outputs": [],
   "source": [
    "import os\n",
    "import pandas as pd\n",
    "import numpy as np\n",
    "from matplotlib import pyplot as plt\n",
    "import seaborn as sns"
   ]
  },
  {
   "cell_type": "markdown",
   "metadata": {},
   "source": [
    "#### Import and read file"
   ]
  },
  {
   "cell_type": "code",
   "execution_count": 3,
   "metadata": {
    "scrolled": true
   },
   "outputs": [],
   "source": [
    "f = open('/mnt/c/Users/turog/Downloads/enrichment_results.txt','r')\n",
    "fileList = f.readlines()\n",
    "\n",
    "keyList = list()\n",
    "valList = list()\n",
    "\n",
    "for i in fileList[1:-1]:\n",
    "    string = i.split('\\t')\n",
    "    keyList.append(string[0])\n",
    "    valList.append(string[1].strip('\\n').replace(';',','))"
   ]
  },
  {
   "cell_type": "markdown",
   "metadata": {},
   "source": [
    "#### Create a dictionary\n",
    "* make equal lengths so you can create pandas dataframe\n",
    "* do by taking difference"
   ]
  },
  {
   "cell_type": "code",
   "execution_count": 4,
   "metadata": {},
   "outputs": [],
   "source": [
    "kv = dict(zip(keyList,valList)) # create a dict from the name to the string"
   ]
  },
  {
   "cell_type": "code",
   "execution_count": 5,
   "metadata": {},
   "outputs": [],
   "source": [
    "# split the values by comma\n",
    "for keys in kv.keys():\n",
    "    newVal = kv[keys].split(',')\n",
    "    kv.update({keys:newVal})"
   ]
  },
  {
   "cell_type": "code",
   "execution_count": 6,
   "metadata": {},
   "outputs": [],
   "source": [
    "lenList = list()\n",
    "for keys in kv.keys():\n",
    "    lenList.append(len(kv[keys]))"
   ]
  },
  {
   "cell_type": "code",
   "execution_count": 7,
   "metadata": {},
   "outputs": [
    {
     "data": {
      "text/plain": [
       "537"
      ]
     },
     "execution_count": 7,
     "metadata": {},
     "output_type": "execute_result"
    }
   ],
   "source": [
    "max(lenList)"
   ]
  },
  {
   "cell_type": "code",
   "execution_count": 8,
   "metadata": {},
   "outputs": [],
   "source": [
    "kv2 = kv.copy()\n",
    "for keys in kv.keys():\n",
    "    if len(kv[keys]) != max(lenList):\n",
    "        naToAdd = max(lenList)-len(kv[keys]) # get the difference between largest and current\n",
    "        val = kv2[keys] # get dict value\n",
    "        \n",
    "        for i in range(0,naToAdd):\n",
    "            val.append(None)\n",
    "        \n",
    "    kv2.update({keys:val})\n"
   ]
  },
  {
   "cell_type": "code",
   "execution_count": 9,
   "metadata": {
    "scrolled": true
   },
   "outputs": [
    {
     "name": "stdout",
     "output_type": "stream",
     "text": [
      "537\n",
      "537\n",
      "537\n",
      "537\n",
      "537\n",
      "537\n",
      "537\n",
      "537\n"
     ]
    }
   ],
   "source": [
    "for i in kv2.values():\n",
    "    print(len(i))"
   ]
  },
  {
   "cell_type": "markdown",
   "metadata": {},
   "source": [
    "#### Create Dataframe"
   ]
  },
  {
   "cell_type": "code",
   "execution_count": 10,
   "metadata": {},
   "outputs": [],
   "source": [
    "df = pd.DataFrame(data=kv2)"
   ]
  },
  {
   "cell_type": "code",
   "execution_count": 11,
   "metadata": {
    "scrolled": true
   },
   "outputs": [
    {
     "data": {
      "text/html": [
       "<div>\n",
       "<style scoped>\n",
       "    .dataframe tbody tr th:only-of-type {\n",
       "        vertical-align: middle;\n",
       "    }\n",
       "\n",
       "    .dataframe tbody tr th {\n",
       "        vertical-align: top;\n",
       "    }\n",
       "\n",
       "    .dataframe thead th {\n",
       "        text-align: right;\n",
       "    }\n",
       "</style>\n",
       "<table border=\"1\" class=\"dataframe\">\n",
       "  <thead>\n",
       "    <tr style=\"text-align: right;\">\n",
       "      <th></th>\n",
       "      <th>INA</th>\n",
       "      <th>Melanoma Therapy</th>\n",
       "      <th>Solid Tumors Therapy</th>\n",
       "      <th>Anticancer</th>\n",
       "      <th>Non-Small Cell Lung Cancer Therapy</th>\n",
       "      <th>Oncolytic Drugs</th>\n",
       "      <th>EGFR</th>\n",
       "      <th>KIN</th>\n",
       "    </tr>\n",
       "  </thead>\n",
       "  <tbody>\n",
       "    <tr>\n",
       "      <th>0</th>\n",
       "      <td>24</td>\n",
       "      <td>95</td>\n",
       "      <td>13</td>\n",
       "      <td>13</td>\n",
       "      <td>58</td>\n",
       "      <td>11</td>\n",
       "      <td>53</td>\n",
       "      <td>24</td>\n",
       "    </tr>\n",
       "    <tr>\n",
       "      <th>1</th>\n",
       "      <td>95</td>\n",
       "      <td>302</td>\n",
       "      <td>38</td>\n",
       "      <td>38</td>\n",
       "      <td>95</td>\n",
       "      <td>15</td>\n",
       "      <td>157</td>\n",
       "      <td>95</td>\n",
       "    </tr>\n",
       "    <tr>\n",
       "      <th>2</th>\n",
       "      <td>417</td>\n",
       "      <td>340</td>\n",
       "      <td>58</td>\n",
       "      <td>58</td>\n",
       "      <td>139</td>\n",
       "      <td>20</td>\n",
       "      <td>167</td>\n",
       "      <td>417</td>\n",
       "    </tr>\n",
       "    <tr>\n",
       "      <th>3</th>\n",
       "      <td>1117</td>\n",
       "      <td>379</td>\n",
       "      <td>157</td>\n",
       "      <td>157</td>\n",
       "      <td>289</td>\n",
       "      <td>22</td>\n",
       "      <td>215</td>\n",
       "      <td>1117</td>\n",
       "    </tr>\n",
       "    <tr>\n",
       "      <th>4</th>\n",
       "      <td>1944</td>\n",
       "      <td>1169</td>\n",
       "      <td>284</td>\n",
       "      <td>284</td>\n",
       "      <td>309</td>\n",
       "      <td>53</td>\n",
       "      <td>2006</td>\n",
       "      <td>1302</td>\n",
       "    </tr>\n",
       "  </tbody>\n",
       "</table>\n",
       "</div>"
      ],
      "text/plain": [
       "    INA Melanoma Therapy Solid Tumors Therapy Anticancer  \\\n",
       "0    24               95                   13         13   \n",
       "1    95              302                   38         38   \n",
       "2   417              340                   58         58   \n",
       "3  1117              379                  157        157   \n",
       "4  1944             1169                  284        284   \n",
       "\n",
       "  Non-Small Cell Lung Cancer Therapy Oncolytic Drugs  EGFR   KIN  \n",
       "0                                 58              11    53    24  \n",
       "1                                 95              15   157    95  \n",
       "2                                139              20   167   417  \n",
       "3                                289              22   215  1117  \n",
       "4                                309              53  2006  1302  "
      ]
     },
     "execution_count": 11,
     "metadata": {},
     "output_type": "execute_result"
    }
   ],
   "source": [
    "df.head()"
   ]
  },
  {
   "cell_type": "code",
   "execution_count": 12,
   "metadata": {
    "scrolled": true
   },
   "outputs": [
    {
     "data": {
      "text/html": [
       "<div>\n",
       "<style scoped>\n",
       "    .dataframe tbody tr th:only-of-type {\n",
       "        vertical-align: middle;\n",
       "    }\n",
       "\n",
       "    .dataframe tbody tr th {\n",
       "        vertical-align: top;\n",
       "    }\n",
       "\n",
       "    .dataframe thead th {\n",
       "        text-align: right;\n",
       "    }\n",
       "</style>\n",
       "<table border=\"1\" class=\"dataframe\">\n",
       "  <thead>\n",
       "    <tr style=\"text-align: right;\">\n",
       "      <th></th>\n",
       "      <th>INA</th>\n",
       "      <th>Melanoma Therapy</th>\n",
       "      <th>Solid Tumors Therapy</th>\n",
       "      <th>Anticancer</th>\n",
       "      <th>Non-Small Cell Lung Cancer Therapy</th>\n",
       "      <th>Oncolytic Drugs</th>\n",
       "      <th>EGFR</th>\n",
       "      <th>KIN</th>\n",
       "    </tr>\n",
       "  </thead>\n",
       "  <tbody>\n",
       "    <tr>\n",
       "      <th>count</th>\n",
       "      <td>86</td>\n",
       "      <td>99</td>\n",
       "      <td>291</td>\n",
       "      <td>291</td>\n",
       "      <td>165</td>\n",
       "      <td>437</td>\n",
       "      <td>91</td>\n",
       "      <td>99</td>\n",
       "    </tr>\n",
       "    <tr>\n",
       "      <th>unique</th>\n",
       "      <td>86</td>\n",
       "      <td>99</td>\n",
       "      <td>291</td>\n",
       "      <td>291</td>\n",
       "      <td>165</td>\n",
       "      <td>437</td>\n",
       "      <td>91</td>\n",
       "      <td>99</td>\n",
       "    </tr>\n",
       "    <tr>\n",
       "      <th>top</th>\n",
       "      <td>11926</td>\n",
       "      <td>11957</td>\n",
       "      <td>12390</td>\n",
       "      <td>12390</td>\n",
       "      <td>1656</td>\n",
       "      <td>1757</td>\n",
       "      <td>11926</td>\n",
       "      <td>11926</td>\n",
       "    </tr>\n",
       "    <tr>\n",
       "      <th>freq</th>\n",
       "      <td>1</td>\n",
       "      <td>1</td>\n",
       "      <td>1</td>\n",
       "      <td>1</td>\n",
       "      <td>1</td>\n",
       "      <td>1</td>\n",
       "      <td>1</td>\n",
       "      <td>1</td>\n",
       "    </tr>\n",
       "  </tbody>\n",
       "</table>\n",
       "</div>"
      ],
      "text/plain": [
       "          INA Melanoma Therapy Solid Tumors Therapy Anticancer  \\\n",
       "count      86               99                  291        291   \n",
       "unique     86               99                  291        291   \n",
       "top     11926            11957                12390      12390   \n",
       "freq        1                1                    1          1   \n",
       "\n",
       "       Non-Small Cell Lung Cancer Therapy Oncolytic Drugs   EGFR    KIN  \n",
       "count                                 165             437     91     99  \n",
       "unique                                165             437     91     99  \n",
       "top                                  1656            1757  11926  11926  \n",
       "freq                                    1               1      1      1  "
      ]
     },
     "execution_count": 12,
     "metadata": {},
     "output_type": "execute_result"
    }
   ],
   "source": [
    "df.describe()"
   ]
  },
  {
   "cell_type": "code",
   "execution_count": 13,
   "metadata": {},
   "outputs": [],
   "source": [
    "df2 = df.fillna(0)"
   ]
  },
  {
   "cell_type": "code",
   "execution_count": 14,
   "metadata": {},
   "outputs": [
    {
     "data": {
      "text/plain": [
       "INA                                   object\n",
       "Melanoma Therapy                      object\n",
       "Solid Tumors Therapy                  object\n",
       "Anticancer                            object\n",
       "Non-Small Cell Lung Cancer Therapy    object\n",
       "Oncolytic Drugs                       object\n",
       "EGFR                                  object\n",
       "KIN                                   object\n",
       "dtype: object"
      ]
     },
     "execution_count": 14,
     "metadata": {},
     "output_type": "execute_result"
    }
   ],
   "source": [
    "df2.dtypes"
   ]
  },
  {
   "cell_type": "code",
   "execution_count": 15,
   "metadata": {},
   "outputs": [
    {
     "data": {
      "text/plain": [
       "INA                                   int64\n",
       "Melanoma Therapy                      int64\n",
       "Solid Tumors Therapy                  int64\n",
       "Anticancer                            int64\n",
       "Non-Small Cell Lung Cancer Therapy    int64\n",
       "Oncolytic Drugs                       int64\n",
       "EGFR                                  int64\n",
       "KIN                                   int64\n",
       "dtype: object"
      ]
     },
     "execution_count": 15,
     "metadata": {},
     "output_type": "execute_result"
    }
   ],
   "source": [
    "df2 = df2.apply(pd.to_numeric)\n",
    "df2.dtypes"
   ]
  },
  {
   "cell_type": "code",
   "execution_count": 16,
   "metadata": {},
   "outputs": [
    {
     "name": "stdout",
     "output_type": "stream",
     "text": [
      "12822\n"
     ]
    }
   ],
   "source": [
    "alist = list()\n",
    "for i in kv2.keys():\n",
    "    alist.append(df2[i].max())\n",
    "print(max(alist))"
   ]
  },
  {
   "cell_type": "code",
   "execution_count": 17,
   "metadata": {},
   "outputs": [],
   "source": [
    "# if you want to export a dataframe.\n",
    "#df2.to_csv('/mnt/c/Users/turog/Downloads/AndrewUntitled.csv',sep = ',', header = True, index = False)"
   ]
  },
  {
   "cell_type": "markdown",
   "metadata": {},
   "source": [
    "#### Plot."
   ]
  },
  {
   "cell_type": "code",
   "execution_count": 18,
   "metadata": {},
   "outputs": [],
   "source": [
    "# Get rid of all the dumb None's you added to even out the df\n",
    "for i in kv.keys():\n",
    "    alist= kv [i]\n",
    "    val = list(filter(lambda a: a != None, alist)) # removes nones\n",
    "    val = list(map(int,val)) # turns all string back to int\n",
    "    kv.update({i:val})"
   ]
  },
  {
   "cell_type": "code",
   "execution_count": 19,
   "metadata": {},
   "outputs": [],
   "source": [
    "vlist = list()\n",
    "for i in kv.values():\n",
    "    vlist.append(i)"
   ]
  },
  {
   "cell_type": "code",
   "execution_count": 20,
   "metadata": {
    "scrolled": true
   },
   "outputs": [
    {
     "data": {
      "text/plain": [
       "<Figure size 792x288 with 0 Axes>"
      ]
     },
     "metadata": {},
     "output_type": "display_data"
    },
    {
     "data": {
      "image/png": "[encoded data removed]",
      "text/plain": [
       "<Figure size 432x288 with 1 Axes>"
      ]
     },
     "metadata": {
      "needs_background": "light"
     },
     "output_type": "display_data"
    }
   ],
   "source": [
    "obj = tuple(kv2.keys())\n",
    "y_pos = np.arange(len(obj))\n",
    "barvals = list()\n",
    "for i in range(0,len(kv2.keys())):\n",
    "    barvals.append(12850) # hardcoded largest val. could also replace 12850 with max(alist)+30\n",
    "               \n",
    "#initialize fig\n",
    "fig = plt.gcf()\n",
    "fig.set_size_inches(11,4)\n",
    "\n",
    "\n",
    "# initialize subplot\n",
    "fig, ax= plt.subplots()\n",
    "ax.barh(y_pos, barvals, align = 'center', alpha = 0.5, fill = False, edgecolor = 'darkblue')\n",
    "\n",
    "#Turn borders off\n",
    "ax.spines['top'].set_visible(False)\n",
    "ax.spines['bottom'].set_visible(False)\n",
    "ax.spines['left'].set_visible(False)\n",
    "ax.spines['right'].set_visible(False)\n",
    "\n",
    "#Add ticks with names\n",
    "ax.set_yticks(y_pos)\n",
    "ax.set_yticklabels(obj,)#backgroundcolor='gray', ha = 'right')\n",
    "ax.get_xaxis().set_visible(False) # hide x axis\n",
    "\n",
    "#Add dots\n",
    "for i in range(len(obj)):\n",
    "    for v in range(len(vlist[i])):\n",
    "        ax.scatter(vlist[i][v],obj[i], alpha = 0.25, color = 'navy', marker = '|',s = 144)\n",
    "\n",
    "#Save fig\n",
    "fig.savefig('/mnt/c/Users/turog/Downloads/andrewUntitled.png', dpi = 200, bbox_inches='tight')"
   ]
  },
  {
   "cell_type": "markdown",
   "metadata": {},
   "source": [
    "* Where left is lowest value, right is largest value.\n",
    "* 'Bars' are bounded by 0 - 12850."
   ]
  }
 ],
 "metadata": {
  "kernelspec": {
   "display_name": "Python 3",
   "language": "python",
   "name": "python3"
  },
  "language_info": {
   "codemirror_mode": {
    "name": "ipython",
    "version": 3
   },
   "file_extension": ".py",
   "mimetype": "text/x-python",
   "name": "python",
   "nbconvert_exporter": "python",
   "pygments_lexer": "ipython3",
   "version": "3.7.0"
  }
 },
 "nbformat": 4,
 "nbformat_minor": 4
}
